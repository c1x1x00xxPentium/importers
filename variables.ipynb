{
 "cells": [
  {
   "cell_type": "code",
   "execution_count": 1,
   "metadata": {},
   "outputs": [],
   "source": [
    "import pandas as pd\n",
    "import xlrd\n",
    "from tqdm import tqdm"
   ]
  },
  {
   "cell_type": "code",
   "execution_count": 2,
   "metadata": {},
   "outputs": [],
   "source": [
    "class Data:\n",
    "    def __init__(self, data_path):\n",
    "        \n",
    "        # path to xlsx file\n",
    "        self.data_path = data_path\n",
    "        \n",
    "        # list of sheets\n",
    "        self.sheets = [\n",
    "        \"Biofuels Production - Kboed\",\n",
    "        \"Biofuels Production - Ktoe\",\n",
    "        \"Carbon Dioxide Emissions\",\n",
    "        \"Coal - Prices\",\n",
    "        \"Coal - Reserves\",\n",
    "        \"Coal Consumption - Mtoe\",\n",
    "        \"Coal Production - Mtoe\",\n",
    "        \"Coal Production - Tonnes\",\n",
    "        \"Electricity Generation \",\n",
    "        \"Gas - Prices \",\n",
    "        \"Gas - Proved reserves\",\n",
    "        \"Gas - Proved reserves history \",\n",
    "        \"Gas Consumption - Bcf\",\n",
    "        \"Gas Consumption - Bcm\",\n",
    "        \"Gas Consumption - Mtoe\",\n",
    "        \"Gas Production - Bcf\",\n",
    "        \"Gas Production - Bcm\",\n",
    "        \"Gas Production - Mtoe\",\n",
    "        \"Geo Biomass Other - Mtoe\",\n",
    "        \"Geo Biomass Other - TWh\",\n",
    "        \"Geothermal Capacity\",\n",
    "           \"Hydro Consumption - Mtoe\",\n",
    "        \"Hydro Generation - TWh\",\n",
    "            \"Nuclear Consumption - Mtoe\",\n",
    "        \"Nuclear Generation - TWh\",\n",
    "            \"Oil - Proved reserves\",\n",
    "        \"Oil - Proved reserves history\",\n",
    "        \"Oil - Refinery throughput\",\n",
    "        \"Oil - Refining capacity\",\n",
    "            \"Oil - Spot crude prices\",\n",
    "            \"Oil Consumption - Barrels\",\n",
    "            \"Oil Consumption - Tonnes\",\n",
    "        \"Oil Production - Barrels\",\n",
    "            \"Oil Production - Tonnes\",\n",
    "            \"Primary Energy Consumption\",\n",
    "            \"Renewables - Mtoe\",\n",
    "        \"Renewables - TWh\",\n",
    "            \"Solar Capacity\",\n",
    "        \"Solar Consumption - Mtoe\",\n",
    "        \"Solar Generation - TWh\",\n",
    "        \"Wind Capacity\",\n",
    "        \"Wind Consumption - Mtoe\",\n",
    "        \"Wind Generation - TWh \"\n",
    "        ]\n",
    "        \n",
    "        # counter for ids\n",
    "        self.counter = 1\n",
    "\n",
    "        self.names, self.units, self.notes, self.ids = [], [], [], []\n",
    "        \n",
    "        #sheets with custom skiprow argument\n",
    "        self.names_custom_start_row = {\n",
    "            \"Coal - Prices\": 1,\n",
    "            \"Coal - Reserves\": 3,\n",
    "            \"Gas - Prices \": 1,\n",
    "            \"Geothermal Capacity\": 3,\n",
    "            \"Oil - Spot crude prices\": 3,\n",
    "            \"Solar Capacity\": 3,\n",
    "            \"Wind Capacity\": 3\n",
    "        }\n",
    "        \n",
    "        #sheets with custom index column\n",
    "        self.names_custom_index = {\n",
    "            \"Gas - Proved reserves\": \"Trillion cubic metres\",\n",
    "            \"Oil - Proved reserves\": \"Thousand million barrels\"\n",
    "        }\n",
    "        \n",
    "    # if custom is True then we use names_custom_index dict \n",
    "    def process_sheet(self, sh, skiprows, custom=False):\n",
    "\n",
    "        data = pd.read_excel(self.data_path, na_values=['n/a'], \n",
    "              sheet_name=sh, \n",
    "              skiprows=skiprows)\n",
    "        unit = \"Total proved reserves\" if custom else data.columns[0]\n",
    "        data.fillna(\"none\", inplace=True)\n",
    "        try:\n",
    "            startLoc = data[data[unit].str.contains(('Notes:|Note:'), na=False)].index.values[0]\n",
    "            note = \" \".join(data.loc[startLoc:][unit].values)\n",
    "        except:\n",
    "            note = \"\"\n",
    "\n",
    "        unit_to_add = self.names_custom_index[sh] if custom else unit\n",
    "\n",
    "        self.names.append(sh)\n",
    "        self.units.append(unit_to_add)\n",
    "        self.notes.append(note)\n",
    "        self.ids.append(self.counter)\n",
    "        self.counter += 1"
   ]
  },
  {
   "cell_type": "code",
   "execution_count": null,
   "metadata": {},
   "outputs": [
    {
     "name": "stderr",
     "output_type": "stream",
     "text": [
      " 86%|████████▌ | 37/43 [01:21<00:13,  2.17s/it]"
     ]
    }
   ],
   "source": [
    "dat = Data('bp_stats.xlsx')\n",
    "\n",
    "for sh in tqdm(dat.sheets):\n",
    "    if sh in dat.names_custom_start_row:\n",
    "        dat.process_sheet(sh, dat.names_custom_start_row[sh], custom=False)\n",
    "    elif sh in dat.names_custom_index:\n",
    "        dat.process_sheet(sh, 1, custom=True)\n",
    "    else:\n",
    "        dat.process_sheet(sh, 2, custom=False)"
   ]
  },
  {
   "cell_type": "code",
   "execution_count": null,
   "metadata": {},
   "outputs": [],
   "source": [
    "final = pd.DataFrame()\n",
    "final['id'] = dat.ids\n",
    "final['name'] = dat.names\n",
    "final['unit'] = dat.units\n",
    "final['notes'] = dat.notes"
   ]
  },
  {
   "cell_type": "code",
   "execution_count": null,
   "metadata": {},
   "outputs": [],
   "source": [
    "final.to_csv('variables.csv', index=False)"
   ]
  },
  {
   "cell_type": "code",
   "execution_count": null,
   "metadata": {},
   "outputs": [],
   "source": []
  }
 ],
 "metadata": {
  "kernelspec": {
   "display_name": "Python 3",
   "language": "python",
   "name": "python3"
  },
  "language_info": {
   "codemirror_mode": {
    "name": "ipython",
    "version": 3
   },
   "file_extension": ".py",
   "mimetype": "text/x-python",
   "name": "python",
   "nbconvert_exporter": "python",
   "pygments_lexer": "ipython3",
   "version": "3.7.3"
  }
 },
 "nbformat": 4,
 "nbformat_minor": 2
}
