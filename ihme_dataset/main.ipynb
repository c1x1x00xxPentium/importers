{
 "cells": [
  {
   "cell_type": "code",
   "execution_count": 1,
   "metadata": {},
   "outputs": [],
   "source": [
    "import sys\n",
    "sys.path.append(\"/Users/alex/Downloads/stats/\")\n",
    "\n",
    "import pandas as pd\n",
    "import os\n",
    "from db import connection\n",
    "from db_utils import DBUtils\n",
    "import xlrd\n",
    "from tqdm import tqdm\n",
    "import datetime\n",
    "import json\n",
    "from glob import glob"
   ]
  },
  {
   "cell_type": "markdown",
   "metadata": {},
   "source": [
    "## Preparing csvs\n",
    "\n",
    "# Datasets"
   ]
  },
  {
   "cell_type": "code",
   "execution_count": 2,
   "metadata": {},
   "outputs": [],
   "source": [
    "names,ids = [\"IHME SDG\"], [0]\n",
    "\n",
    "datasets = pd.DataFrame()\n",
    "datasets['id'] = ids\n",
    "datasets['name'] = names\n",
    "datasets.to_csv('datasets.csv', index=False)"
   ]
  },
  {
   "cell_type": "code",
   "execution_count": 3,
   "metadata": {},
   "outputs": [
    {
     "data": {
      "text/html": [
       "<div>\n",
       "<style scoped>\n",
       "    .dataframe tbody tr th:only-of-type {\n",
       "        vertical-align: middle;\n",
       "    }\n",
       "\n",
       "    .dataframe tbody tr th {\n",
       "        vertical-align: top;\n",
       "    }\n",
       "\n",
       "    .dataframe thead th {\n",
       "        text-align: right;\n",
       "    }\n",
       "</style>\n",
       "<table border=\"1\" class=\"dataframe\">\n",
       "  <thead>\n",
       "    <tr style=\"text-align: right;\">\n",
       "      <th></th>\n",
       "      <th>id</th>\n",
       "      <th>name</th>\n",
       "    </tr>\n",
       "  </thead>\n",
       "  <tbody>\n",
       "    <tr>\n",
       "      <th>0</th>\n",
       "      <td>0</td>\n",
       "      <td>IHME SDG</td>\n",
       "    </tr>\n",
       "  </tbody>\n",
       "</table>\n",
       "</div>"
      ],
      "text/plain": [
       "   id      name\n",
       "0   0  IHME SDG"
      ]
     },
     "execution_count": 3,
     "metadata": {},
     "output_type": "execute_result"
    }
   ],
   "source": [
    "datasets"
   ]
  },
  {
   "cell_type": "markdown",
   "metadata": {},
   "source": [
    "# Sources"
   ]
  },
  {
   "cell_type": "code",
   "execution_count": 4,
   "metadata": {},
   "outputs": [],
   "source": [
    "names, desc, d_ids = [], [], []\n",
    "\n",
    "source_name = \"IHME SDG\"\n",
    "\n",
    "description = {}\n",
    "description['dataPublishedBy'] = \"Global Burden of Disease Study 2017 (GBD 2017) Health-related Sustainable Development Goals (SDG) Indicators 1990-2030\"\n",
    "description['dataPublisherSource'] = None\n",
    "description['link'] = 'http://ghdx.healthdata.org/record/ihme-data/gbd-2017-health-related-sdgs-1990-2030'\n",
    "description['retrievedDate'] = datetime.datetime.now().strftime(\"%d-%b-%Y\")\n",
    "description['additionalInfo'] = None\n",
    "dataset_id = 0\n",
    "\n",
    "names.append(source_name)\n",
    "desc.append(json.dumps(description))\n",
    "d_ids.append(dataset_id)\n",
    "    \n",
    "res = pd.DataFrame()\n",
    "res['name'] = names\n",
    "res['description'] = desc\n",
    "res['dataset_id'] = d_ids\n",
    "res.to_csv(\"sources.csv\", index=False)"
   ]
  },
  {
   "cell_type": "code",
   "execution_count": 5,
   "metadata": {},
   "outputs": [
    {
     "data": {
      "text/html": [
       "<div>\n",
       "<style scoped>\n",
       "    .dataframe tbody tr th:only-of-type {\n",
       "        vertical-align: middle;\n",
       "    }\n",
       "\n",
       "    .dataframe tbody tr th {\n",
       "        vertical-align: top;\n",
       "    }\n",
       "\n",
       "    .dataframe thead th {\n",
       "        text-align: right;\n",
       "    }\n",
       "</style>\n",
       "<table border=\"1\" class=\"dataframe\">\n",
       "  <thead>\n",
       "    <tr style=\"text-align: right;\">\n",
       "      <th></th>\n",
       "      <th>name</th>\n",
       "      <th>description</th>\n",
       "      <th>dataset_id</th>\n",
       "    </tr>\n",
       "  </thead>\n",
       "  <tbody>\n",
       "    <tr>\n",
       "      <th>0</th>\n",
       "      <td>IHME SDG</td>\n",
       "      <td>{\"dataPublishedBy\": \"Global Burden of Disease ...</td>\n",
       "      <td>0</td>\n",
       "    </tr>\n",
       "  </tbody>\n",
       "</table>\n",
       "</div>"
      ],
      "text/plain": [
       "       name                                        description  dataset_id\n",
       "0  IHME SDG  {\"dataPublishedBy\": \"Global Burden of Disease ...           0"
      ]
     },
     "execution_count": 5,
     "metadata": {},
     "output_type": "execute_result"
    }
   ],
   "source": [
    "res"
   ]
  },
  {
   "cell_type": "markdown",
   "metadata": {},
   "source": [
    "# Variables"
   ]
  },
  {
   "cell_type": "code",
   "execution_count": 6,
   "metadata": {},
   "outputs": [
    {
     "name": "stderr",
     "output_type": "stream",
     "text": [
      "100%|██████████| 4/4 [01:08<00:00, 17.17s/it]\n"
     ]
    }
   ],
   "source": [
    "var_names, var_units, var_ids = [], [], []\n",
    "for x in tqdm(glob(\"data/*.CSV\")):\n",
    "    \n",
    "    if \"CODEBOOK\" in x:\n",
    "        continue\n",
    "    data = pd.read_csv(x)\n",
    "    \n",
    "    scaling = \"Unscaled\" if \"IHME_GBD_2017_HEALTH_SDG_1990_2030_UNSCALED_Y2019M02D06.CSV\" in x else \"Scaled\"\n",
    "    \n",
    "    for i, row in data.iterrows():\n",
    "        var_names.append(row['ihme_indicator_description'] + \" - \" + row['estimate_type'].capitalize() + \" - \" + scaling)\n",
    "        var_units.append(row['indicator_unit'])\n",
    "    \n",
    "        \n",
    "variables = pd.DataFrame()\n",
    "variables['name'] = var_names\n",
    "variables['unit'] = var_units\n",
    "variables['dataset_id'] = [0 for _ in range(len(var_units))]\n",
    "variables['id'] = [x for x in range(len(var_units))]\n",
    "\n",
    "variables.drop_duplicates(subset=['name', 'unit'], inplace=True)\n",
    "\n",
    "variables.to_csv(\"variables.csv\", index=False)"
   ]
  },
  {
   "cell_type": "markdown",
   "metadata": {},
   "source": [
    "# Datapoints"
   ]
  },
  {
   "cell_type": "code",
   "execution_count": 13,
   "metadata": {},
   "outputs": [
    {
     "name": "stderr",
     "output_type": "stream",
     "text": [
      "100%|██████████| 4/4 [00:09<00:00,  2.49s/it]\n"
     ]
    }
   ],
   "source": [
    "\n",
    "for x in tqdm(glob(\"data/*.CSV\")):\n",
    "    \n",
    "    if \"CODEBOOK\" in x:\n",
    "        continue\n",
    "    data = pd.read_csv(x)\n",
    "    \n",
    "    scaling = \"Unscaled\" if \"IHME_GBD_2017_HEALTH_SDG_1990_2030_UNSCALED_Y2019M02D06.CSV\" in x else \"Scaled\"\n",
    "    \n",
    "    data['var_val'] = data['ihme_indicator_description'] + \" - \" + data['estimate_type'].str.capitalize() + \" - \" + scaling\n",
    "    \n",
    "    distinct_vals = data['var_val'].unique()\n",
    "    \n",
    "    for var_name in distinct_vals:\n",
    "    \n",
    "        var_id = variables[variables['name'] == var_name]['id'].values[0]\n",
    "        sub_data = data[data['var_val'] == var_name]\n",
    "        res = pd.DataFrame()\n",
    "        \n",
    "        res['year'] = sub_data['year_id']\n",
    "        res['country'] = sub_data['location_name']\n",
    "        if scaling == \"Unscaled\":\n",
    "            res['value'] = sub_data['unscaled_value']\n",
    "        else :\n",
    "            res['value'] = sub_data['scaled_value']   \n",
    "        res.to_csv('datapoints/datapoints_%s.csv' % str(var_id), index=False)  \n"
   ]
  },
  {
   "cell_type": "markdown",
   "metadata": {},
   "source": [
    "## Get country names"
   ]
  },
  {
   "cell_type": "code",
   "execution_count": 79,
   "metadata": {},
   "outputs": [
    {
     "name": "stderr",
     "output_type": "stream",
     "text": [
      "100%|██████████| 168/168 [00:00<00:00, 316.01it/s]\n"
     ]
    }
   ],
   "source": [
    "# countries = set()\n",
    "\n",
    "# for x in tqdm(glob('datapoints/*.csv')):\n",
    "    \n",
    "   \n",
    "#     data = pd.read_csv(x)\n",
    "#     for j in data['country'].values:\n",
    "#         countries.add(j)\n",
    "# res = pd.DataFrame()\n",
    "# res['name'] = list(countries)\n",
    "# res.to_csv(\"distinct_countries_standardized.csv\", index=False)"
   ]
  },
  {
   "cell_type": "code",
   "execution_count": 80,
   "metadata": {},
   "outputs": [
    {
     "data": {
      "text/html": [
       "<div>\n",
       "<style scoped>\n",
       "    .dataframe tbody tr th:only-of-type {\n",
       "        vertical-align: middle;\n",
       "    }\n",
       "\n",
       "    .dataframe tbody tr th {\n",
       "        vertical-align: top;\n",
       "    }\n",
       "\n",
       "    .dataframe thead th {\n",
       "        text-align: right;\n",
       "    }\n",
       "</style>\n",
       "<table border=\"1\" class=\"dataframe\">\n",
       "  <thead>\n",
       "    <tr style=\"text-align: right;\">\n",
       "      <th></th>\n",
       "      <th>name</th>\n",
       "    </tr>\n",
       "  </thead>\n",
       "  <tbody>\n",
       "    <tr>\n",
       "      <th>0</th>\n",
       "      <td>Sri Lanka</td>\n",
       "    </tr>\n",
       "    <tr>\n",
       "      <th>1</th>\n",
       "      <td>Democratic Republic of the Congo</td>\n",
       "    </tr>\n",
       "    <tr>\n",
       "      <th>2</th>\n",
       "      <td>Bangladesh</td>\n",
       "    </tr>\n",
       "    <tr>\n",
       "      <th>3</th>\n",
       "      <td>American Samoa</td>\n",
       "    </tr>\n",
       "    <tr>\n",
       "      <th>4</th>\n",
       "      <td>Tonga</td>\n",
       "    </tr>\n",
       "    <tr>\n",
       "      <th>...</th>\n",
       "      <td>...</td>\n",
       "    </tr>\n",
       "    <tr>\n",
       "      <th>190</th>\n",
       "      <td>Turkmenistan</td>\n",
       "    </tr>\n",
       "    <tr>\n",
       "      <th>191</th>\n",
       "      <td>South Africa</td>\n",
       "    </tr>\n",
       "    <tr>\n",
       "      <th>192</th>\n",
       "      <td>Slovakia</td>\n",
       "    </tr>\n",
       "    <tr>\n",
       "      <th>193</th>\n",
       "      <td>Ukraine</td>\n",
       "    </tr>\n",
       "    <tr>\n",
       "      <th>194</th>\n",
       "      <td>Czech Republic</td>\n",
       "    </tr>\n",
       "  </tbody>\n",
       "</table>\n",
       "<p>195 rows × 1 columns</p>\n",
       "</div>"
      ],
      "text/plain": [
       "                                 name\n",
       "0                           Sri Lanka\n",
       "1    Democratic Republic of the Congo\n",
       "2                          Bangladesh\n",
       "3                      American Samoa\n",
       "4                               Tonga\n",
       "..                                ...\n",
       "190                      Turkmenistan\n",
       "191                      South Africa\n",
       "192                          Slovakia\n",
       "193                           Ukraine\n",
       "194                    Czech Republic\n",
       "\n",
       "[195 rows x 1 columns]"
      ]
     },
     "execution_count": 80,
     "metadata": {},
     "output_type": "execute_result"
    }
   ],
   "source": [
    "res"
   ]
  },
  {
   "cell_type": "markdown",
   "metadata": {},
   "source": [
    "## Insert db"
   ]
  },
  {
   "cell_type": "code",
   "execution_count": 14,
   "metadata": {},
   "outputs": [
    {
     "name": "stderr",
     "output_type": "stream",
     "text": [
      "1it [00:00, 10.83it/s]\n",
      "1it [00:00, 19.82it/s]\n",
      "168it [00:00, 436.89it/s]\n",
      "100%|██████████| 168/168 [13:43<00:00,  4.61s/it]\n"
     ]
    }
   ],
   "source": [
    "with connection as c:\n",
    "    db = DBUtils(c)\n",
    "    \n",
    "    entities = pd.read_csv(\"distinct_countries_standardized.csv\")\n",
    "    datasets = pd.read_csv(\"datasets.csv\")\n",
    "    sources = pd.read_csv(\"sources.csv\")\n",
    "    variables = pd.read_csv('variables.csv')\n",
    "    \n",
    "    new_entities = entities[entities['db_entity_id'].isnull()]\n",
    "    for _, entity in new_entities.iterrows():\n",
    "        entity_id = entity.name\n",
    "        entity_name = entity['name']\n",
    "        db_entity_id = db.get_or_create_entity(entity_name)\n",
    "        entities.loc[entity_id, 'db_entity_id'] = db_entity_id\n",
    "    \n",
    "    # upsert datasets\n",
    "    dataset_name_ids = {}\n",
    "    for i, row in tqdm(datasets.iterrows()):\n",
    "        dataset_id = db.upsert_dataset(name=row['name'], namespace=\"unwpp\", user_id=15)\n",
    "        dataset_name_ids[row['name']] = dataset_id\n",
    "        \n",
    "        \n",
    "    # upsert sources\n",
    "    \n",
    "    dataset_to_source_ids = {}\n",
    "    for i, row in tqdm(sources.iterrows()):\n",
    "\n",
    "        dataset_name = datasets[datasets['id'] == row['dataset_id']]['name'].values[0]\n",
    "        source_id = db.upsert_source(name=row['name'], description=json.dumps(row['description']), dataset_id=dataset_name_ids[dataset_name])\n",
    "\n",
    "        dataset_to_source_ids[dataset_name] = source_id\n",
    "\n",
    "        \n",
    "    # upsert variables\n",
    "    names_to_ids = {}\n",
    "    for i, row in tqdm(variables.iterrows()):\n",
    "        \n",
    "        dataset_name = datasets[datasets['id'] == row['dataset_id']]['name'].values[0]\n",
    "        dataset_id = dataset_name_ids[dataset_name]\n",
    "        source_id = dataset_to_source_ids[dataset_name]\n",
    "        \n",
    "        unit = row['unit'] if pd.notnull(row['unit']) else \"\"\n",
    "        \n",
    "        variable_id = db.upsert_variable(\n",
    "                                        name=row['name'], \n",
    "                                        code=None, \n",
    "                                        unit=unit, \n",
    "                                        short_unit=None, \n",
    "                                        source_id=source_id, \n",
    "                                        dataset_id=dataset_id, \n",
    "                                        description=None, \n",
    "                                        timespan='', \n",
    "                                        coverage='', \n",
    "                                        display={}\n",
    "                                        )\n",
    "        names_to_ids[row['name']] = variable_id\n",
    "        \n",
    "    #Inserting datapoints\n",
    "\n",
    "\n",
    "    datapoints_files = glob(\"datapoints/*.csv\")\n",
    "    for x in tqdm(datapoints_files): \n",
    "        # to get variable is\n",
    "        v_id = int(x.split(\"_\")[1].split(\".\")[0])\n",
    "       \n",
    "        # to get variable name\n",
    "        variable_name = variables[variables['id']==v_id]['name'].values[0]\n",
    "       \n",
    "        # to get variable id from db\n",
    "        variable_id = names_to_ids[variable_name]\n",
    "        data = pd.read_csv(x)\n",
    "\n",
    "        for i, row in data.iterrows():\n",
    "            entity_id = entities[entities['name'] == row['country']]['db_entity_id'].values[0]\n",
    "\n",
    "            year = row['year']\n",
    "            val = row['value']\n",
    "\n",
    "            db.upsert_one(\"\"\"\n",
    "                INSERT INTO data_values\n",
    "                    (value, year, entityId, variableId)\n",
    "                VALUES\n",
    "                    (%s, %s, %s, %s)\n",
    "                ON DUPLICATE KEY UPDATE\n",
    "                    value = VALUES(value),\n",
    "                    year = VALUES(year),\n",
    "                    entityId = VALUES(entityId),\n",
    "                    variableId = VALUES(variableId)\n",
    "            \"\"\", [val, int(year), str(int(entity_id)), str(variable_id)])\n",
    "    "
   ]
  },
  {
   "cell_type": "code",
   "execution_count": null,
   "metadata": {},
   "outputs": [],
   "source": []
  }
 ],
 "metadata": {
  "kernelspec": {
   "display_name": "Python 3",
   "language": "python",
   "name": "python3"
  },
  "language_info": {
   "codemirror_mode": {
    "name": "ipython",
    "version": 3
   },
   "file_extension": ".py",
   "mimetype": "text/x-python",
   "name": "python",
   "nbconvert_exporter": "python",
   "pygments_lexer": "ipython3",
   "version": "3.7.3"
  }
 },
 "nbformat": 4,
 "nbformat_minor": 2
}
