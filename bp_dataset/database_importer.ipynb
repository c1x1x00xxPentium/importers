{
 "cells": [
  {
   "cell_type": "code",
   "execution_count": 4,
   "metadata": {},
   "outputs": [],
   "source": [
    "import pandas as pd\n",
    "import os\n",
    "from db import connection\n",
    "from db_utils import DBUtils"
   ]
  },
  {
   "cell_type": "markdown",
   "metadata": {},
   "source": [
    "## Database importer"
   ]
  },
  {
   "cell_type": "code",
   "execution_count": 5,
   "metadata": {},
   "outputs": [],
   "source": [
    "entities = pd.read_csv('./countries-standardized.csv')\n"
   ]
  },
  {
   "cell_type": "code",
   "execution_count": 6,
   "metadata": {},
   "outputs": [],
   "source": [
    "with connection as c:\n",
    "    db = DBUtils(c)\n",
    "    new_entities = entities[entities['db_entity_id'].isnull()]\n",
    "    for _, entity in new_entities.iterrows():\n",
    "        entity_id = entity.name\n",
    "        entity_name = entity['name']\n",
    "        db_entity_id = db.get_or_create_entity(entity_name)\n",
    "        entities.loc[entity_id, 'db_entity_id'] = db_entity_id\n",
    "    \n",
    "    \n",
    "    # Inserting the dataset\n",
    "    dataset_id = db.upsert_dataset(\n",
    "                \"BP Statistical Review of Global Energy\", \n",
    "                \"bpstatreview_2019\", \n",
    "                35, \n",
    "                tag_id=None, \n",
    "                description=''\n",
    "                )\n",
    "\n",
    "    #Inserting the source\n",
    "    source_id = db.upsert_source(\"BP Statistical Review of Global Energy\", description=\"\", dataset_id=dataset_id)\n",
    "\n",
    "    # Inserting variables\n",
    "    variables = pd.read_csv(\"variables.csv\")\n",
    "    names_to_ids = {}\n",
    "\n",
    "    for i, row in variables.iterrows():\n",
    "        desc = row['notes'] if pd.notnull(row['notes']) else \"\"\n",
    "        variable_id = db.upsert_variable(\n",
    "                                        name=row['name'], \n",
    "                                        code=None, \n",
    "                                        unit=row['unit'], \n",
    "                                        short_unit=None, \n",
    "                                        source_id=dataset_id, \n",
    "                                        dataset_id=dataset_id, \n",
    "                                        description=desc, \n",
    "                                        timespan='', \n",
    "                                        coverage='', \n",
    "                                        display={}\n",
    "                                        )\n",
    "        names_to_ids[row['name']] = variable_id\n",
    "\n",
    "    #Inserting datapoints\n",
    "\n",
    "    datapoints_files = os.listdir(\"csvs/\")\n",
    "    for x in datapoints_files:\n",
    "        if x == \".DS_Store\":\n",
    "            continue\n",
    "        # to get variable is\n",
    "        v_id = int(x.split(\"_\")[1].split(\".\")[0])\n",
    "       \n",
    "        # to get variable name\n",
    "        variable_name = variables[variables['id']==v_id]['name'].values[0]\n",
    "       \n",
    "        # to get variable id from db\n",
    "        variable_id = names_to_ids[variable_name]\n",
    "        data = pd.read_csv(\"csvs/\"+x)\n",
    "\n",
    "        for i, row in data.iterrows():\n",
    "            entity_id = entities[entities['name'] == row['country']]['db_entity_id'].values[0]\n",
    "            if not pd.notnull(row['value']):\n",
    "                val = 0.0\n",
    "            else:\n",
    "                val = row['value']\n",
    "\n",
    "            year = row['year']\n",
    "\n",
    "            db.upsert_one(\"\"\"\n",
    "                INSERT INTO data_values\n",
    "                    (value, year, entityId, variableId)\n",
    "                VALUES\n",
    "                    (%s, %s, %s, %s)\n",
    "                ON DUPLICATE KEY UPDATE\n",
    "                    value = VALUES(value),\n",
    "                    year = VALUES(year),\n",
    "                    entityId = VALUES(entityId),\n",
    "                    variableId = VALUES(variableId)\n",
    "            \"\"\", [val, int(year), str(int(entity_id)), str(variable_id)])\n"
   ]
  }
 ],
 "metadata": {
  "kernelspec": {
   "display_name": "Python 3",
   "language": "python",
   "name": "python3"
  },
  "language_info": {
   "codemirror_mode": {
    "name": "ipython",
    "version": 3
   },
   "file_extension": ".py",
   "mimetype": "text/x-python",
   "name": "python",
   "nbconvert_exporter": "python",
   "pygments_lexer": "ipython3",
   "version": "3.7.3"
  }
 },
 "nbformat": 4,
 "nbformat_minor": 2
}
