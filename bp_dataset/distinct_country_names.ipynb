{
 "cells": [
  {
   "cell_type": "code",
   "execution_count": 1,
   "metadata": {},
   "outputs": [],
   "source": [
    "import os\n",
    "import pandas as pd"
   ]
  },
  {
   "cell_type": "code",
   "execution_count": 7,
   "metadata": {},
   "outputs": [
    {
     "name": "stdout",
     "output_type": "stream",
     "text": [
      "{'Vietnam', 'Syria', 'Other North Africa', 'Croatia', 'Total World', 'Trinidad & Tobago', 'Mexico', 'Brent', 'Australia', 'Total Middle East & Africa', 'Kuwait', 'Northwest Europe marker price', 'Ecuador', 'Guadeloupe', 'Portugal', 'US', 'Other Africa', 'Central America', 'Equatorial Guinea', 'Bahrain', 'Total Africa', 'Luxembourg', 'North Macedonia', 'Libya', 'Japan steam spot CIF price', 'Finland', 'West Texas', 'Nigeria', 'Czech Republic', 'Pakistan', 'Total Europe', 'Asian marker price', 'Zimbabwe', 'Russian Fed', 'Algeria', 'Zambia', 'New Caledonia', 'Indonesia', 'Egypt', 'Japan', 'South Korea', 'Turkey', 'Eastern Africa', 'Oman', 'Jordan', 'Honduras', 'Kenya', 'Iran', 'Slovenia', 'Netherlands TTF', 'Japan coking coal import CIF price', 'Colombia', 'Tunisia', 'Lithuania', 'Japan Korea Marker', 'Denmark', 'Dubai', 'Slovakia', 'Turkmenistan', 'Other Europe', 'Bangladesh', 'Other Middle East', 'Bulgaria', 'Middle East', 'Kazakhstan', 'United Arab Emirates', 'Ireland', 'Romania', 'El Salvador', 'China Qinhuangdao spot price', 'Nicaragua', 'Spain', 'Belarus', 'Philippines', 'Total North America', 'Papua New Guinea', 'Madagascar', 'UK', 'Iceland', 'Other S. & Cent. America', 'Sweden', 'Cyprus', 'Middle Africa', 'USSR', 'Western Africa', 'Malaysia', 'Uzbekistan', 'Netherlands', 'Qatar', 'New Zealand', 'Chad', 'US Central Appalachian coal spot price index', 'Germany', 'Angola', 'Other South America', 'Republic of Congo', 'Curacao', 'Japan steam coal import CIF price', 'Total Asia Pacific', 'Netherlands Antilles', 'Saudi Arabia', 'Argentina', 'Austria', 'Taiwan', 'Total S. & Cent. America', 'Hungary', 'Israel', 'Mozambique', 'China', 'Other Caribbean', 'Switzerland', 'Singapore', 'France', 'Greece', 'Yemen', 'Other Asia Pacific', 'Bolivia', 'China Hong Kong SAR', 'Sri Lanka', 'Brazil', 'Russian Federation', 'Other CIS', 'Rest of World', 'Thailand', 'DR Congo', 'South Sudan', 'Iraq', 'Other Southern Africa', 'Average German', 'Guatemala', 'Gabon', 'Ukraine', 'Poland', 'Venezuela', 'Azerbaijan', 'Brunei', 'Ethiopia', 'Chile', 'South Africa', 'Serbia', 'Latvia', 'Belgium', 'Mongolia', 'Total Middle East', 'Estonia', 'Costa Rica', 'United Kingdom', 'Other Northern Africa', 'Norway', 'Sudan', 'Morocco', 'Nigerian', 'Myanmar', 'India', 'Uruguay', 'OECD', 'Canada', 'Cuba', 'Peru', 'Total CIS', 'Italy'}\n"
     ]
    }
   ],
   "source": [
    "countries = set()\n",
    "\n",
    "for x in os.listdir(\"./csvs\"):\n",
    "    if x == \".DS_Store\":\n",
    "        continue\n",
    "    else:\n",
    "        data = pd.read_csv(\"./csvs/\" + x)\n",
    "        for j in data['country'].values:\n",
    "            countries.add(j)\n",
    "        "
   ]
  },
  {
   "cell_type": "code",
   "execution_count": 9,
   "metadata": {},
   "outputs": [],
   "source": [
    "res = pd.DataFrame()\n",
    "res['name'] = list(countries)"
   ]
  },
  {
   "cell_type": "code",
   "execution_count": 11,
   "metadata": {},
   "outputs": [],
   "source": [
    "res.to_csv(\"countries.csv\", index=False)"
   ]
  }
 ],
 "metadata": {
  "kernelspec": {
   "display_name": "Python 3",
   "language": "python",
   "name": "python3"
  },
  "language_info": {
   "codemirror_mode": {
    "name": "ipython",
    "version": 3
   },
   "file_extension": ".py",
   "mimetype": "text/x-python",
   "name": "python",
   "nbconvert_exporter": "python",
   "pygments_lexer": "ipython3",
   "version": "3.7.3"
  }
 },
 "nbformat": 4,
 "nbformat_minor": 2
}
