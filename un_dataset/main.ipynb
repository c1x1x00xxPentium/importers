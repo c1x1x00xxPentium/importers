{
 "cells": [
  {
   "cell_type": "code",
   "execution_count": 25,
   "metadata": {},
   "outputs": [],
   "source": [
    "# import sys\n",
    "# sys.path.append(\"/Users/alex/Downloads/stats/\")\n",
    "\n",
    "# import pandas as pd\n",
    "# import os\n",
    "# from db import connection\n",
    "# from db_utils import DBUtils\n",
    "# import xlrd\n",
    "# from tqdm import tqdm\n",
    "# import datetime\n",
    "# import json"
   ]
  },
  {
   "cell_type": "code",
   "execution_count": 23,
   "metadata": {},
   "outputs": [],
   "source": [
    "values = ['UN WPP - Interpolated demographic indicators by region, subregion and country, annually for 1950-2099',\n",
    " 'UN WPP - Interpolated total population by broad age group, region, subregion and country, annually for 1950-2100 (thousands)',\n",
    " 'UN WPP - Interpolated male population by broad age group, region, subregion and country, annually for 1950-2100 (thousands)',\n",
    " 'UN WPP - Interpolated female population by broad age group, region, subregion and country, annually for 1950-2100 (thousands)',\n",
    " 'UN WPP - Percentage of total population by broad age group, region, subregion and country, annually interpolated for 1950-2100',\n",
    " 'UN WPP - Dependency ratios (total, child, old-age) for different age groups and for both sexes combined by region, subregion and country, annually interpolated for 1950-2100',\n",
    " 'UN WPP - Total population (both sexes combined) by single age, region, subregion and country, annually for 1950-2100 (thousands)']\n",
    "\n",
    "keys = ['Annually interpolated demographic indicators.', 'Annual total population (both sexes combined) by broad age groups. Data are presented in thousands.', 'Annual male population by broad age groups. Data are presented in thousands.', 'Annual female population by broad age groups. Data are presented in thousands.', 'Percentage of annual total population (both sexes combined) by broad age group.', 'Annual dependency ratios (total, child, old-age) for different age groups and for both sexes combined.', 'Annual population by single age - Both Sexes. De facto population as of 1 July of the year indicated classified by single age (0, 1, 2, ..., 99, 100+). Data are presented in thousands.']\n",
    "\n",
    "datasets_dict = {}\n",
    "for x,y in zip(keys, values):\n",
    "    datasets_dict[x] = y\n",
    "    "
   ]
  },
  {
   "cell_type": "code",
   "execution_count": 26,
   "metadata": {},
   "outputs": [
    {
     "name": "stderr",
     "output_type": "stream",
     "text": [
      "\n",
      "  0%|          | 0/7 [00:00<?, ?it/s]\u001b[A\n",
      " 14%|█▍        | 1/7 [00:23<02:23, 23.95s/it]\u001b[A\n",
      " 29%|██▊       | 2/7 [00:46<01:56, 23.38s/it]\u001b[A\n",
      " 43%|████▎     | 3/7 [00:54<01:16, 19.04s/it]\u001b[A\n",
      " 57%|█████▋    | 4/7 [01:34<01:16, 25.35s/it]\u001b[A\n",
      " 71%|███████▏  | 5/7 [01:59<00:50, 25.11s/it]\u001b[A\n",
      " 86%|████████▌ | 6/7 [02:23<00:24, 24.75s/it]\u001b[A\n",
      "100%|██████████| 7/7 [02:33<00:00, 20.38s/it]\u001b[A"
     ]
    }
   ],
   "source": [
    "# with connection as c:\n",
    "#     db = DBUtils(c)\n",
    "    \n",
    "#     # upsert datasets\n",
    "#     dataset_name_ids = {}\n",
    "#     for f in tqdm(os.listdir('sources/')):\n",
    "#         if f == '.DS_Store':\n",
    "#             continue\n",
    "#         data = pd.read_excel('sources/'+f)\n",
    "#         val = data[data.columns[0]][8]\n",
    "#         index_to_remove = val.find(\":\")\n",
    "#         res = \"UN WPP - \" + val[index_to_remove+2:]\n",
    "#         dataset_id = db.upsert_dataset(name=res, namespace=\"unwpp\", user_id=15)\n",
    "#         dataset_name_ids[res] = dataset_id\n",
    "        \n",
    "#     # upsert sources\n",
    "    \n",
    "#     dataset_to_source_ids = {}\n",
    "#     source_name = \"United Nations – Population Division (2019 Revision)\"\n",
    "#     for addInfo, dataset_name in datasets_dict.items():\n",
    "#         description = {}\n",
    "#         description['dataPublishedBy'] = \"United Nations, Department of Economic and Social Affairs, Population Division (2019). World Population Prospects: The 2019 Revision, DVD Edition.\"\n",
    "#         description['dataPublisherSource'] = None\n",
    "#         description['link'] = 'https://population.un.org/wpp2019/Download/Standard/Interpolated/'\n",
    "#         description['retrievedDate'] = datetime.datetime.now().strftime(\"%d-%b-%Y\")\n",
    "#         description['additionalInfo'] = addInfo\n",
    "        \n",
    "#         source_id = db.upsert_source(name=source_name, description=json.dumps(description), dataset_id=dataset_name_ids[dataset_name])\n",
    "#         dataset_to_source_ids[dataset_name_ids[dataset_name]] = source_id\n",
    "    "
   ]
  },
  {
   "cell_type": "code",
   "execution_count": 27,
   "metadata": {},
   "outputs": [
    {
     "data": {
      "text/plain": [
       "{4219: 17021,\n",
       " 4217: 17022,\n",
       " 2745: 17023,\n",
       " 2748: 17024,\n",
       " 4221: 17025,\n",
       " 4223: 17026,\n",
       " 4220: 17027}"
      ]
     },
     "execution_count": 27,
     "metadata": {},
     "output_type": "execute_result"
    }
   ],
   "source": [
    "# dataset_to_source_ids"
   ]
  },
  {
   "cell_type": "markdown",
   "metadata": {},
   "source": [
    "# Preparing csvs"
   ]
  },
  {
   "cell_type": "markdown",
   "metadata": {},
   "source": [
    "## Datasets"
   ]
  },
  {
   "cell_type": "code",
   "execution_count": 28,
   "metadata": {},
   "outputs": [
    {
     "name": "stderr",
     "output_type": "stream",
     "text": [
      "\n",
      "  0%|          | 0/7 [00:00<?, ?it/s]\u001b[A\n",
      " 14%|█▍        | 1/7 [00:23<02:21, 23.51s/it]\u001b[A\n",
      " 29%|██▊       | 2/7 [00:47<01:58, 23.80s/it]\u001b[A\n",
      " 43%|████▎     | 3/7 [00:56<01:16, 19.18s/it]\u001b[A\n",
      " 57%|█████▋    | 4/7 [01:33<01:13, 24.56s/it]\u001b[A\n",
      " 71%|███████▏  | 5/7 [01:56<00:48, 24.20s/it]\u001b[A\n",
      " 86%|████████▌ | 6/7 [02:20<00:24, 24.13s/it]\u001b[A\n",
      "100%|██████████| 7/7 [02:30<00:00, 19.91s/it]\u001b[A"
     ]
    }
   ],
   "source": [
    "names,ids = [], []\n",
    "i = 0\n",
    "for f in tqdm(os.listdir('data/')):\n",
    "        if f == '.DS_Store':\n",
    "            continue\n",
    "        data = pd.read_excel('data/'+f)\n",
    "        val = data[data.columns[0]][8]\n",
    "        index_to_remove = val.find(\":\")\n",
    "        res = \"UN WPP - \" + val[index_to_remove+2:]\n",
    "        names.append(res)\n",
    "        ids.append(i)\n",
    "        i+=1\n",
    "datasets = pd.DataFrame()\n",
    "datasets['id'] = ids\n",
    "datasets['name'] = names\n",
    "datasets.to_csv('datasets.csv', index=False)"
   ]
  },
  {
   "cell_type": "markdown",
   "metadata": {},
   "source": [
    "## Sources"
   ]
  },
  {
   "cell_type": "code",
   "execution_count": 32,
   "metadata": {},
   "outputs": [],
   "source": [
    "names, desc, d_ids = [], [], []\n",
    "\n",
    "source_name = \"United Nations – Population Division (2019 Revision)\"\n",
    "for addInfo, dataset_name in datasets_dict.items():\n",
    "    description = {}\n",
    "    description['dataPublishedBy'] = \"United Nations, Department of Economic and Social Affairs, Population Division (2019). World Population Prospects: The 2019 Revision, DVD Edition.\"\n",
    "    description['dataPublisherSource'] = None\n",
    "    description['link'] = 'https://population.un.org/wpp2019/Download/Standard/Interpolated/'\n",
    "    description['retrievedDate'] = datetime.datetime.now().strftime(\"%d-%b-%Y\")\n",
    "    description['additionalInfo'] = addInfo\n",
    "    dataset_id = datasets[datasets['name'] == dataset_name]['id'].values[0]\n",
    "\n",
    "    names.append(source_name)\n",
    "    desc.append(description)\n",
    "    d_ids.append(dataset_id)\n",
    "    \n",
    "res = pd.DataFrame()\n",
    "res['name'] = names\n",
    "res['description'] = desc\n",
    "res['dataset_id'] = d_ids\n",
    "res.to_csv(\"sources.csv\", index=False)"
   ]
  },
  {
   "cell_type": "markdown",
   "metadata": {},
   "source": [
    "## Variables"
   ]
  },
  {
   "cell_type": "code",
   "execution_count": 71,
   "metadata": {},
   "outputs": [],
   "source": [
    "class DataVariables():\n",
    "    \n",
    "    def __init__(self):\n",
    "        \n",
    "        \n",
    "        self.i = 0\n",
    "        self.ids = []\n",
    "        self.names = []\n",
    "        self.units = []\n",
    "        self.dataset_ids = []\n",
    "        self.doc_to_unit = {\n",
    "                        \"UN WPP - Interpolated total population by broad age group, region, subregion and country, annually for 1950-2100 (thousands)\": \"Thousands\",\n",
    "                        'UN WPP - Total population (both sexes combined) by single age, region, subregion and country, annually for 1950-2100 (thousands)': \"Thousands\",\n",
    "                        'UN WPP - Percentage of total population by broad age group, region, subregion and country, annually interpolated for 1950-2100': \"Percentage\",\n",
    "                        'UN WPP - Interpolated male population by broad age group, region, subregion and country, annually for 1950-2100 (thousands)': 'Thousands',\n",
    "            'UN WPP - Interpolated female population by broad age group, region, subregion and country, annually for 1950-2100 (thousands)': 'Thousands',\n",
    "             'UN WPP - Dependency ratios (total, child, old-age) for different age groups and for both sexes combined by region, subregion and country, annually interpolated for 1950-2100': 'Percentage'\n",
    "\n",
    "            #'UN WPP - Interpolated demographic indicators by region, subregion and country, annually for 1950-2099': \n",
    "                        \n",
    "\n",
    "                    }\n",
    "        \n",
    "        self.datasets = pd.read_csv('datasets.csv')\n",
    "        self.df = pd.DataFrame()\n",
    "        \n",
    "    def get_variables(self, path, skiprows=8, prefix=None):\n",
    "        data = pd.read_excel(path, skiprows=8)\n",
    "\n",
    "        val = data[data.columns[0]][0]\n",
    "        index_to_remove = val.find(\":\")\n",
    "        res = \"UN WPP - \" + val[index_to_remove+2:]\n",
    "        \n",
    "        for item in data.loc[7, data.columns[8]: data.columns[-1]].values:\n",
    "            if prefix:\n",
    "                self.names.append(prefix + \" - \" + item)\n",
    "            else:\n",
    "                self.names.append(item)\n",
    "            self.ids.append(self.i)\n",
    "            self.i+=1\n",
    "            self.units.append(self.doc_to_unit[res])\n",
    "            self.dataset_ids.append(self.datasets[self.datasets['name'] == res]['id'].values[0])\n",
    "            \n",
    "    def get_df(self):\n",
    "        \n",
    "        self.df['id'] = self.ids\n",
    "        self.df['name'] = self.names\n",
    "        self.df['unit'] = self.units\n",
    "        self.df['dataset_id'] = self.dataset_ids\n",
    "        \n",
    "        return self.df\n",
    "        \n",
    "        \n",
    "        "
   ]
  },
  {
   "cell_type": "code",
   "execution_count": 72,
   "metadata": {},
   "outputs": [
    {
     "name": "stderr",
     "output_type": "stream",
     "text": [
      "\n",
      "\n",
      "\n",
      "\n",
      "  0%|          | 0/8 [00:00<?, ?it/s]\u001b[A\u001b[A\u001b[A\u001b[A\n",
      "\n",
      "\n",
      "\n",
      " 12%|█▎        | 1/8 [00:22<02:37, 22.44s/it]\u001b[A\u001b[A\u001b[A\u001b[A\n",
      "\n",
      "\n",
      "\n",
      " 38%|███▊      | 3/8 [00:44<01:35, 19.06s/it]\u001b[A\u001b[A\u001b[A\u001b[A\n",
      "\n",
      "\n",
      "\n",
      " 62%|██████▎   | 5/8 [01:22<00:57, 19.04s/it]\u001b[A\u001b[A\u001b[A\u001b[A\n",
      "\n",
      "\n",
      "\n",
      " 75%|███████▌  | 6/8 [01:45<00:40, 20.05s/it]\u001b[A\u001b[A\u001b[A\u001b[A\n",
      "\n",
      "\n",
      "\n",
      " 88%|████████▊ | 7/8 [02:07<00:20, 20.70s/it]\u001b[A\u001b[A\u001b[A\u001b[A\n",
      "\n",
      "\n",
      "\n",
      "100%|██████████| 8/8 [02:16<00:00, 17.37s/it]\u001b[A\u001b[A\u001b[A\u001b[A"
     ]
    }
   ],
   "source": [
    "dv = DataVariables()\n",
    "for f in tqdm(os.listdir('data/')):\n",
    "        if f == '.DS_Store':\n",
    "            continue\n",
    "        elif f == \"unwpp.xlsx\":\n",
    "            dv.get_variables(\"./data/\"+f, prefix=\"Total population by broad age group, both sexes combined (thousands)\")\n",
    "        elif f == \"unwpp_total_population.xlsx\":\n",
    "            dv.get_variables(\"./data/\"+f, prefix=\"Total population by age, both sexes combined (thousands)\")\n",
    "        elif f == \"unwpp_percentage_of_total_population.xlsx\":\n",
    "            dv.get_variables(\"./data/\"+f, prefix=\"Percentage of total population by broad age group, both sexes combined (per 100 total population)\")\n",
    "        elif f == \"unwpp_male_population.xlsx\":\n",
    "            dv.get_variables(\"./data/\"+f, prefix=\"Male population by broad age group (thousands)\")\n",
    "        #elif f == \"unwpp_interpolated_demographic_indicators.xlsx\":\n",
    "        elif f == \"unwpp_female_population.xlsx\":\n",
    "            dv.get_variables(\"./data/\"+f, prefix=\"Female population by broad age group (thousands)\")\n",
    "        elif f == \"unwpp_dependency_ratios.xlsx\":\n",
    "            dv.get_variables(\"./data/\"+f, prefix=\"Dependency ratios (both sexes combined) for different age groups\")\n",
    "        \n",
    "\n",
    "res = dv.get_df()\n"
   ]
  },
  {
   "cell_type": "code",
   "execution_count": 74,
   "metadata": {},
   "outputs": [],
   "source": [
    "res.to_csv(\"variables.csv\", index=False)"
   ]
  },
  {
   "cell_type": "code",
   "execution_count": null,
   "metadata": {},
   "outputs": [],
   "source": []
  }
 ],
 "metadata": {
  "kernelspec": {
   "display_name": "Python 3",
   "language": "python",
   "name": "python3"
  },
  "language_info": {
   "codemirror_mode": {
    "name": "ipython",
    "version": 3
   },
   "file_extension": ".py",
   "mimetype": "text/x-python",
   "name": "python",
   "nbconvert_exporter": "python",
   "pygments_lexer": "ipython3",
   "version": "3.7.3"
  }
 },
 "nbformat": 4,
 "nbformat_minor": 2
}
