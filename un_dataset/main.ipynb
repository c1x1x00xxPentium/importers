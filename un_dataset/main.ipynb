{
 "cells": [
  {
   "cell_type": "code",
   "execution_count": 2,
   "metadata": {},
   "outputs": [],
   "source": [
    "import sys\n",
    "sys.path.append(\"/Users/alex/Downloads/stats/\")\n",
    "\n",
    "import pandas as pd\n",
    "import os\n",
    "from db import connection\n",
    "from db_utils import DBUtils\n",
    "import xlrd\n",
    "from tqdm import tqdm\n",
    "import datetime\n",
    "import json\n",
    "from glob import glob"
   ]
  },
  {
   "cell_type": "code",
   "execution_count": 3,
   "metadata": {},
   "outputs": [],
   "source": [
    "values = ['UN WPP - Interpolated demographic indicators by region, subregion and country, annually for 1950-2099',\n",
    " 'UN WPP - Interpolated total population by broad age group, region, subregion and country, annually for 1950-2100 (thousands)',\n",
    " 'UN WPP - Interpolated male population by broad age group, region, subregion and country, annually for 1950-2100 (thousands)',\n",
    " 'UN WPP - Interpolated female population by broad age group, region, subregion and country, annually for 1950-2100 (thousands)',\n",
    " 'UN WPP - Percentage of total population by broad age group, region, subregion and country, annually interpolated for 1950-2100',\n",
    " 'UN WPP - Dependency ratios (total, child, old-age) for different age groups and for both sexes combined by region, subregion and country, annually interpolated for 1950-2100',\n",
    " 'UN WPP - Total population (both sexes combined) by single age, region, subregion and country, annually for 1950-2100 (thousands)']\n",
    "\n",
    "keys = ['Annually interpolated demographic indicators.', 'Annual total population (both sexes combined) by broad age groups. Data are presented in thousands.', 'Annual male population by broad age groups. Data are presented in thousands.', 'Annual female population by broad age groups. Data are presented in thousands.', 'Percentage of annual total population (both sexes combined) by broad age group.', 'Annual dependency ratios (total, child, old-age) for different age groups and for both sexes combined.', 'Annual population by single age - Both Sexes. De facto population as of 1 July of the year indicated classified by single age (0, 1, 2, ..., 99, 100+). Data are presented in thousands.']\n",
    "\n",
    "datasets_dict = {}\n",
    "for x,y in zip(keys, values):\n",
    "    datasets_dict[x] = y\n",
    "    "
   ]
  },
  {
   "cell_type": "code",
   "execution_count": 4,
   "metadata": {},
   "outputs": [],
   "source": [
    "# with connection as c:\n",
    "#     db = DBUtils(c)\n",
    "    \n",
    "#     # upsert datasets\n",
    "#     dataset_name_ids = {}\n",
    "#     for f in tqdm(os.listdir('sources/')):\n",
    "#         if f == '.DS_Store':\n",
    "#             continue\n",
    "#         data = pd.read_excel('sources/'+f)\n",
    "#         val = data[data.columns[0]][8]\n",
    "#         index_to_remove = val.find(\":\")\n",
    "#         res = \"UN WPP - \" + val[index_to_remove+2:]\n",
    "#         dataset_id = db.upsert_dataset(name=res, namespace=\"unwpp\", user_id=15)\n",
    "#         dataset_name_ids[res] = dataset_id\n",
    "        \n",
    "#     # upsert sources\n",
    "    \n",
    "#     dataset_to_source_ids = {}\n",
    "#     source_name = \"United Nations – Population Division (2019 Revision)\"\n",
    "#     for addInfo, dataset_name in datasets_dict.items():\n",
    "#         description = {}\n",
    "#         description['dataPublishedBy'] = \"United Nations, Department of Economic and Social Affairs, Population Division (2019). World Population Prospects: The 2019 Revision, DVD Edition.\"\n",
    "#         description['dataPublisherSource'] = None\n",
    "#         description['link'] = 'https://population.un.org/wpp2019/Download/Standard/Interpolated/'\n",
    "#         description['retrievedDate'] = datetime.datetime.now().strftime(\"%d-%b-%Y\")\n",
    "#         description['additionalInfo'] = addInfo\n",
    "        \n",
    "#         source_id = db.upsert_source(name=source_name, description=json.dumps(description), dataset_id=dataset_name_ids[dataset_name])\n",
    "#         dataset_to_source_ids[dataset_name_ids[dataset_name]] = source_id\n",
    "    "
   ]
  },
  {
   "cell_type": "code",
   "execution_count": 5,
   "metadata": {},
   "outputs": [],
   "source": [
    "# dataset_to_source_ids"
   ]
  },
  {
   "cell_type": "markdown",
   "metadata": {},
   "source": [
    "# Preparing csvs"
   ]
  },
  {
   "cell_type": "markdown",
   "metadata": {},
   "source": [
    "## Datasets"
   ]
  },
  {
   "cell_type": "code",
   "execution_count": 7,
   "metadata": {},
   "outputs": [
    {
     "name": "stderr",
     "output_type": "stream",
     "text": [
      "100%|██████████| 7/7 [02:39<00:00, 20.84s/it]\n"
     ]
    }
   ],
   "source": [
    "names,ids = [], []\n",
    "i = 0\n",
    "for f in tqdm(glob('data/*.xlsx')):\n",
    "    \n",
    "        data = pd.read_excel(f)\n",
    "        val = data[data.columns[0]][8]\n",
    "        index_to_remove = val.find(\":\")\n",
    "        res = \"UN WPP - \" + val[index_to_remove+2:]\n",
    "        names.append(res)\n",
    "        ids.append(i)\n",
    "        i+=1\n",
    "datasets = pd.DataFrame()\n",
    "datasets['id'] = ids\n",
    "datasets['name'] = names\n",
    "datasets.to_csv('datasets.csv', index=False)"
   ]
  },
  {
   "cell_type": "markdown",
   "metadata": {},
   "source": [
    "## Sources"
   ]
  },
  {
   "cell_type": "code",
   "execution_count": 8,
   "metadata": {},
   "outputs": [],
   "source": [
    "names, desc, d_ids = [], [], []\n",
    "\n",
    "source_name = \"United Nations – Population Division (2019 Revision)\"\n",
    "for addInfo, dataset_name in datasets_dict.items():\n",
    "    description = {}\n",
    "    description['dataPublishedBy'] = \"United Nations, Department of Economic and Social Affairs, Population Division (2019). World Population Prospects: The 2019 Revision, DVD Edition.\"\n",
    "    description['dataPublisherSource'] = None\n",
    "    description['link'] = 'https://population.un.org/wpp2019/Download/Standard/Interpolated/'\n",
    "    description['retrievedDate'] = datetime.datetime.now().strftime(\"%d-%b-%Y\")\n",
    "    description['additionalInfo'] = addInfo\n",
    "    dataset_id = datasets[datasets['name'] == dataset_name]['id'].values[0]\n",
    "\n",
    "    names.append(source_name)\n",
    "    desc.append(description)\n",
    "    d_ids.append(dataset_id)\n",
    "    \n",
    "res = pd.DataFrame()\n",
    "res['name'] = names\n",
    "res['description'] = desc\n",
    "res['dataset_id'] = d_ids\n",
    "res.to_csv(\"sources.csv\", index=False)"
   ]
  },
  {
   "cell_type": "markdown",
   "metadata": {},
   "source": [
    "## Variables"
   ]
  },
  {
   "cell_type": "code",
   "execution_count": 30,
   "metadata": {},
   "outputs": [],
   "source": [
    "class DataVariables():\n",
    "    \n",
    "    def __init__(self):\n",
    "        \n",
    "        \n",
    "        self.i = 0\n",
    "        self.ids = []\n",
    "        self.names = []\n",
    "        self.units = []\n",
    "        self.dataset_ids = []\n",
    "        self.doc_to_unit = {\n",
    "                        \"UN WPP - Interpolated total population by broad age group, region, subregion and country, annually for 1950-2100 (thousands)\": \"Thousands\",\n",
    "                        'UN WPP - Total population (both sexes combined) by single age, region, subregion and country, annually for 1950-2100 (thousands)': \"Thousands\",\n",
    "                        'UN WPP - Percentage of total population by broad age group, region, subregion and country, annually interpolated for 1950-2100': \"Percentage\",\n",
    "                        'UN WPP - Interpolated male population by broad age group, region, subregion and country, annually for 1950-2100 (thousands)': 'Thousands',\n",
    "            'UN WPP - Interpolated female population by broad age group, region, subregion and country, annually for 1950-2100 (thousands)': 'Thousands',\n",
    "             'UN WPP - Dependency ratios (total, child, old-age) for different age groups and for both sexes combined by region, subregion and country, annually interpolated for 1950-2100': 'Percentage'\n",
    "\n",
    "            #'UN WPP - Interpolated demographic indicators by region, subregion and country, annually for 1950-2099': \n",
    "                        \n",
    "\n",
    "                    }\n",
    "        \n",
    "        self.datasets = pd.read_csv('datasets.csv')\n",
    "        self.df = pd.DataFrame()\n",
    "    \n",
    "        \n",
    "    def get_variables(self, path, skiprows=8, prefix=None):\n",
    "        \n",
    "        for sh in [\"ESTIMATES\", \"MEDIUM VARIANT\"]:\n",
    "            data = pd.read_excel(path, skiprows=skiprows, sheet_name=sh)\n",
    "\n",
    "            val = data[data.columns[0]][0]\n",
    "            index_to_remove = val.find(\":\")\n",
    "            res = \"UN WPP - \" + val[index_to_remove+2:]\n",
    "\n",
    "            title = data[data.columns[0]][1]\n",
    "            print(title)\n",
    "\n",
    "            for item in data.loc[7, data.columns[8]: data.columns[-1]].values:\n",
    "                if prefix:\n",
    "                    self.names.append(title + \": \" + prefix + \" - \" + item)\n",
    "                else:\n",
    "                    self.names.append(title + \": \" + item)\n",
    "                self.ids.append(self.i)\n",
    "                self.i+=1\n",
    "                self.units.append(self.doc_to_unit[res])\n",
    "                self.dataset_ids.append(self.datasets[self.datasets['name'] == res]['id'].values[0])\n",
    "    \n",
    "    def get_custom_variable(self, path, skiprows=8, prefix=None):\n",
    "        \n",
    "        column_unit = {\n",
    "            8: \"Thousands\",\n",
    "            9: \"Thousands\",\n",
    "            10: \"Thousands\",\n",
    "            11: \"Percentage\",\n",
    "            12: \"Years\",\n",
    "            13: \"Years\",\n",
    "            14: \"Years\",\n",
    "            15: \"Thousands\",\n",
    "            16: \"Infant deaths per 1,000 live births\",\n",
    "            17: \"Deaths under age 5 per 1,000 live births\",\n",
    "            18: \"Thousands\",\n",
    "            19: \"Births per 1,000 population\",\n",
    "            20: \"Live births per woman\",\n",
    "            21: \"Thousands\",\n",
    "            22: \"Per 1,000 population\",\n",
    "            23: \"Thousands\",\n",
    "            24: \"Percentage\"\n",
    "            \n",
    "        \n",
    "        }\n",
    "        \n",
    "        for sh in [\"ESTIMATES\", \"MEDIUM VARIANT\"]:\n",
    "            data = pd.read_excel(path, skiprows=skiprows, sheet_name=sh)\n",
    "\n",
    "            val = data[data.columns[0]][0]\n",
    "            index_to_remove = val.find(\":\")\n",
    "            res = \"UN WPP - \" + val[index_to_remove+2:]\n",
    "\n",
    "            title = data[data.columns[0]][1]\n",
    "            print(title)\n",
    "            \n",
    "            col_index = 8\n",
    "            for item in data.loc[7, data.columns[8]: data.columns[-1]].values:\n",
    "                if prefix:\n",
    "                    self.names.append(title + \": \" + prefix + \" - \" + item)\n",
    "                else:\n",
    "                    self.names.append(title + \": \" + item)\n",
    "                self.ids.append(self.i)\n",
    "                self.i+=1\n",
    "                self.units.append(column_unit[col_index])\n",
    "                self.dataset_ids.append(self.datasets[self.datasets['name'] == res]['id'].values[0])\n",
    "                col_index += 1\n",
    "           \n",
    "    \n",
    "\n",
    "            \n",
    "            \n",
    "    def get_df(self):\n",
    "        \n",
    "        self.df['id'] = self.ids\n",
    "        self.df['name'] = self.names\n",
    "        self.df['unit'] = self.units\n",
    "        self.df['dataset_id'] = self.dataset_ids\n",
    "        \n",
    "        return self.df\n",
    "        \n",
    "        \n",
    "        "
   ]
  },
  {
   "cell_type": "code",
   "execution_count": 31,
   "metadata": {},
   "outputs": [
    {
     "name": "stderr",
     "output_type": "stream",
     "text": [
      "\r",
      "  0%|          | 0/7 [00:00<?, ?it/s]"
     ]
    },
    {
     "name": "stdout",
     "output_type": "stream",
     "text": [
      "Estimates, 1950 - 2020\n"
     ]
    },
    {
     "name": "stderr",
     "output_type": "stream",
     "text": [
      "\r",
      " 14%|█▍        | 1/7 [00:47<04:44, 47.47s/it]"
     ]
    },
    {
     "name": "stdout",
     "output_type": "stream",
     "text": [
      "Medium fertility variant, 2020 - 2100\n",
      "Estimates, 1950 - 2020\n"
     ]
    },
    {
     "name": "stderr",
     "output_type": "stream",
     "text": [
      "\r",
      " 29%|██▊       | 2/7 [01:33<03:55, 47.15s/it]"
     ]
    },
    {
     "name": "stdout",
     "output_type": "stream",
     "text": [
      "Medium fertility variant, 2020 - 2100\n",
      "Estimates, 1950 - 2020\n"
     ]
    },
    {
     "name": "stderr",
     "output_type": "stream",
     "text": [
      "\r",
      " 43%|████▎     | 3/7 [01:52<02:34, 38.56s/it]"
     ]
    },
    {
     "name": "stdout",
     "output_type": "stream",
     "text": [
      "Medium fertility variant, 2020 - 2099\n",
      "Estimates, 1950 - 2020\n"
     ]
    },
    {
     "name": "stderr",
     "output_type": "stream",
     "text": [
      "\r",
      " 57%|█████▋    | 4/7 [03:14<02:34, 51.52s/it]"
     ]
    },
    {
     "name": "stdout",
     "output_type": "stream",
     "text": [
      "Medium fertility variant, 2020 - 2100\n",
      "Estimates, 1950 - 2020\n"
     ]
    },
    {
     "name": "stderr",
     "output_type": "stream",
     "text": [
      "\r",
      " 71%|███████▏  | 5/7 [04:08<01:44, 52.43s/it]"
     ]
    },
    {
     "name": "stdout",
     "output_type": "stream",
     "text": [
      "Medium fertility variant, 2020 - 2100\n",
      "Estimates, 1950 - 2020\n"
     ]
    },
    {
     "name": "stderr",
     "output_type": "stream",
     "text": [
      "\r",
      " 86%|████████▌ | 6/7 [04:57<00:51, 51.39s/it]"
     ]
    },
    {
     "name": "stdout",
     "output_type": "stream",
     "text": [
      "Medium fertility variant, 2020 - 2100\n",
      "Estimates, 1950 - 2020\n"
     ]
    },
    {
     "name": "stderr",
     "output_type": "stream",
     "text": [
      "\r",
      "100%|██████████| 7/7 [05:18<00:00, 42.37s/it]"
     ]
    },
    {
     "name": "stdout",
     "output_type": "stream",
     "text": [
      "Medium fertility variant, 2020 - 2100\n"
     ]
    },
    {
     "name": "stderr",
     "output_type": "stream",
     "text": [
      "\n"
     ]
    }
   ],
   "source": [
    "dv = DataVariables()\n",
    "for f in tqdm(glob('data/*.xlsx')):\n",
    "     \n",
    "        if f == \"data/unwpp.xlsx\":\n",
    "            dv.get_variables(f, prefix=\"Total population by broad age group, both sexes combined (thousands)\")\n",
    "        elif f == \"data/unwpp_total_population.xlsx\":\n",
    "            dv.get_variables(f, prefix=\"Total population by age, both sexes combined (thousands)\")\n",
    "        elif f == \"data/unwpp_percentage_of_total_population.xlsx\":\n",
    "            dv.get_variables(f, prefix=\"Percentage of total population by broad age group, both sexes combined (per 100 total population)\")\n",
    "        elif f == \"data/unwpp_male_population.xlsx\":\n",
    "            dv.get_variables(f, prefix=\"Male population by broad age group (thousands)\")\n",
    "        elif f == \"data/unwpp_interpolated_demographic_indicators.xlsx\":\n",
    "            dv.get_custom_variable(f, prefix=\"Interpolated total population by broad age group, region, subregion and country, annually for 1950-2100 (thousands)\")\n",
    "        elif f == \"data/unwpp_female_population.xlsx\":\n",
    "            dv.get_variables(f, prefix=\"Female population by broad age group (thousands)\")\n",
    "        elif f == \"data/unwpp_dependency_ratios.xlsx\":\n",
    "            dv.get_variables(f, prefix=\"Dependency ratios (both sexes combined) for different age groups\")\n",
    "        \n",
    "\n",
    "res = dv.get_df()\n"
   ]
  },
  {
   "cell_type": "code",
   "execution_count": 34,
   "metadata": {},
   "outputs": [],
   "source": [
    "res.to_csv(\"variables.csv\", index=False)"
   ]
  },
  {
   "cell_type": "code",
   "execution_count": 33,
   "metadata": {},
   "outputs": [
    {
     "data": {
      "text/html": [
       "<div>\n",
       "<style scoped>\n",
       "    .dataframe tbody tr th:only-of-type {\n",
       "        vertical-align: middle;\n",
       "    }\n",
       "\n",
       "    .dataframe tbody tr th {\n",
       "        vertical-align: top;\n",
       "    }\n",
       "\n",
       "    .dataframe thead th {\n",
       "        text-align: right;\n",
       "    }\n",
       "</style>\n",
       "<table border=\"1\" class=\"dataframe\">\n",
       "  <thead>\n",
       "    <tr style=\"text-align: right;\">\n",
       "      <th></th>\n",
       "      <th>id</th>\n",
       "      <th>name</th>\n",
       "      <th>unit</th>\n",
       "      <th>dataset_id</th>\n",
       "    </tr>\n",
       "  </thead>\n",
       "  <tbody>\n",
       "    <tr>\n",
       "      <th>242</th>\n",
       "      <td>242</td>\n",
       "      <td>Estimates, 1950 - 2020: Interpolated total pop...</td>\n",
       "      <td>Per 1,000 population</td>\n",
       "      <td>2</td>\n",
       "    </tr>\n",
       "    <tr>\n",
       "      <th>259</th>\n",
       "      <td>259</td>\n",
       "      <td>Medium fertility variant, 2020 - 2099: Interpo...</td>\n",
       "      <td>Per 1,000 population</td>\n",
       "      <td>2</td>\n",
       "    </tr>\n",
       "  </tbody>\n",
       "</table>\n",
       "</div>"
      ],
      "text/plain": [
       "      id                                               name  \\\n",
       "242  242  Estimates, 1950 - 2020: Interpolated total pop...   \n",
       "259  259  Medium fertility variant, 2020 - 2099: Interpo...   \n",
       "\n",
       "                     unit  dataset_id  \n",
       "242  Per 1,000 population           2  \n",
       "259  Per 1,000 population           2  "
      ]
     },
     "execution_count": 33,
     "metadata": {},
     "output_type": "execute_result"
    }
   ],
   "source": [
    "res[res['unit'] == 'Per 1,000 population']"
   ]
  },
  {
   "cell_type": "markdown",
   "metadata": {},
   "source": [
    "## Datapoints"
   ]
  },
  {
   "cell_type": "code",
   "execution_count": 84,
   "metadata": {},
   "outputs": [],
   "source": [
    "def normalize_country(row):\n",
    "        \n",
    "        row['country'] = row['country'].str.replace(r'\\s*[^A-Za-z\\s]*$', '')\n",
    "        return row\n",
    "\n",
    "\n",
    "def get_variables(path, variables, skiprows=8, prefix=None, custom=False):\n",
    "        \n",
    "        for sh in [\"ESTIMATES\", \"MEDIUM VARIANT\"]:\n",
    "            data = pd.read_excel(path, skiprows=skiprows, sheet_name=sh)\n",
    "\n",
    "            val = data[data.columns[0]][0]\n",
    "            index_to_remove = val.find(\":\")\n",
    "            res = \"UN WPP - \" + val[index_to_remove+2:]\n",
    "\n",
    "            title = data[data.columns[0]][1]\n",
    "            \n",
    "            index_col = 8\n",
    "            \n",
    "            for item in data.loc[7, data.columns[8]: data.columns[-1]].values:\n",
    "                \n",
    "                if prefix:\n",
    "                    var_name = title + \": \" + prefix + \" - \" + item\n",
    "                else:\n",
    "                    var_name = title + \": \" + item\n",
    "                \n",
    "                var_id = variables[variables['name'] == var_name]['id'].values[0] \n",
    "                \n",
    "                data2 = data.iloc[8:]\n",
    "               \n",
    "                data_res = pd.DataFrame()\n",
    "                data_res['country'] = data2[data2.columns[2]]\n",
    "                data_res['year'] = data2[data2.columns[7]]\n",
    "                data_res['value'] = data2[\"Unnamed: %s\" % str(index_col)]\n",
    "                \n",
    "                data_res['country'] = normalize_country(data_res)\n",
    "                data_res.to_csv('datapoints/datapoints_%s.csv' % str(var_id), index=False)\n",
    "                \n",
    "                index_col += 1\n",
    "            "
   ]
  },
  {
   "cell_type": "code",
   "execution_count": 86,
   "metadata": {},
   "outputs": [
    {
     "name": "stderr",
     "output_type": "stream",
     "text": [
      "\n",
      "\n",
      "\n",
      "\n",
      "\n",
      "\n",
      "\n",
      "\n",
      "\n",
      "\n",
      "\n",
      "\n",
      "\n",
      "\n",
      "\n",
      "\n",
      "\n",
      "\n",
      "\n",
      "\n",
      "\n",
      "  0%|          | 0/8 [00:00<?, ?it/s]\u001b[A\u001b[A\u001b[A\u001b[A\u001b[A\u001b[A\u001b[A\u001b[A\u001b[A\u001b[A\u001b[A\u001b[A\u001b[A\u001b[A\u001b[A\u001b[A\u001b[A\u001b[A\u001b[A\u001b[A\u001b[A\n",
      "\n",
      "\n",
      "\n",
      "\n",
      "\n",
      "\n",
      "\n",
      "\n",
      "\n",
      "\n",
      "\n",
      "\n",
      "\n",
      "\n",
      "\n",
      "\n",
      "\n",
      "\n",
      "\n",
      "\n",
      " 12%|█▎        | 1/8 [00:55<06:29, 55.70s/it]\u001b[A\u001b[A\u001b[A\u001b[A\u001b[A\u001b[A\u001b[A\u001b[A\u001b[A\u001b[A\u001b[A\u001b[A\u001b[A\u001b[A\u001b[A\u001b[A\u001b[A\u001b[A\u001b[A\u001b[A\u001b[A\n",
      "\n",
      "\n",
      "\n",
      "\n",
      "\n",
      "\n",
      "\n",
      "\n",
      "\n",
      "\n",
      "\n",
      "\n",
      "\n",
      "\n",
      "\n",
      "\n",
      "\n",
      "\n",
      "\n",
      "\n",
      " 38%|███▊      | 3/8 [01:51<03:56, 47.32s/it]\u001b[A\u001b[A\u001b[A\u001b[A\u001b[A\u001b[A\u001b[A\u001b[A\u001b[A\u001b[A\u001b[A\u001b[A\u001b[A\u001b[A\u001b[A\u001b[A\u001b[A\u001b[A\u001b[A\u001b[A\u001b[A\n",
      "\n",
      "\n",
      "\n",
      "\n",
      "\n",
      "\n",
      "\n",
      "\n",
      "\n",
      "\n",
      "\n",
      "\n",
      "\n",
      "\n",
      "\n",
      "\n",
      "\n",
      "\n",
      "\n",
      "\n",
      " 50%|█████     | 4/8 [02:11<02:36, 39.21s/it]\u001b[A\u001b[A\u001b[A\u001b[A\u001b[A\u001b[A\u001b[A\u001b[A\u001b[A\u001b[A\u001b[A\u001b[A\u001b[A\u001b[A\u001b[A\u001b[A\u001b[A\u001b[A\u001b[A\u001b[A\u001b[A\n",
      "\n",
      "\n",
      "\n",
      "\n",
      "\n",
      "\n",
      "\n",
      "\n",
      "\n",
      "\n",
      "\n",
      "\n",
      "\n",
      "\n",
      "\n",
      "\n",
      "\n",
      "\n",
      "\n",
      "\n",
      " 62%|██████▎   | 5/8 [03:43<02:45, 55.15s/it]\u001b[A\u001b[A\u001b[A\u001b[A\u001b[A\u001b[A\u001b[A\u001b[A\u001b[A\u001b[A\u001b[A\u001b[A\u001b[A\u001b[A\u001b[A\u001b[A\u001b[A\u001b[A\u001b[A\u001b[A\u001b[A\n",
      "\n",
      "\n",
      "\n",
      "\n",
      "\n",
      "\n",
      "\n",
      "\n",
      "\n",
      "\n",
      "\n",
      "\n",
      "\n",
      "\n",
      "\n",
      "\n",
      "\n",
      "\n",
      "\n",
      "\n",
      " 75%|███████▌  | 6/8 [04:37<01:49, 54.85s/it]\u001b[A\u001b[A\u001b[A\u001b[A\u001b[A\u001b[A\u001b[A\u001b[A\u001b[A\u001b[A\u001b[A\u001b[A\u001b[A\u001b[A\u001b[A\u001b[A\u001b[A\u001b[A\u001b[A\u001b[A\u001b[A\n",
      "\n",
      "\n",
      "\n",
      "\n",
      "\n",
      "\n",
      "\n",
      "\n",
      "\n",
      "\n",
      "\n",
      "\n",
      "\n",
      "\n",
      "\n",
      "\n",
      "\n",
      "\n",
      "\n",
      "\n",
      " 88%|████████▊ | 7/8 [05:33<00:55, 55.05s/it]\u001b[A\u001b[A\u001b[A\u001b[A\u001b[A\u001b[A\u001b[A\u001b[A\u001b[A\u001b[A\u001b[A\u001b[A\u001b[A\u001b[A\u001b[A\u001b[A\u001b[A\u001b[A\u001b[A\u001b[A\u001b[A\n",
      "\n",
      "\n",
      "\n",
      "\n",
      "\n",
      "\n",
      "\n",
      "\n",
      "\n",
      "\n",
      "\n",
      "\n",
      "\n",
      "\n",
      "\n",
      "\n",
      "\n",
      "\n",
      "\n",
      "\n",
      "100%|██████████| 8/8 [05:56<00:00, 45.40s/it]\u001b[A\u001b[A\u001b[A\u001b[A\u001b[A\u001b[A\u001b[A\u001b[A\u001b[A\u001b[A\u001b[A\u001b[A\u001b[A\u001b[A\u001b[A\u001b[A\u001b[A\u001b[A\u001b[A\u001b[A\u001b[A"
     ]
    }
   ],
   "source": [
    "variables = pd.read_csv(\"variables.csv\")\n",
    "\n",
    "for f in tqdm(glob('data/*.xlsx')):\n",
    "   \n",
    "\n",
    "    if f == \"data/unwpp.xlsx\":\n",
    "        get_variables(f, variables, prefix=\"Total population by broad age group, both sexes combined (thousands)\")\n",
    "    elif f == \"data/unwpp_total_population.xlsx\":\n",
    "        get_variables(f,variables, prefix=\"Total population by age, both sexes combined (thousands)\")\n",
    "    elif f == \"data/unwpp_percentage_of_total_population.xlsx\":\n",
    "        get_variables(f,variables, prefix=\"Percentage of total population by broad age group, both sexes combined (per 100 total population)\")\n",
    "    elif f == \"data/unwpp_male_population.xlsx\":\n",
    "        get_variables(f,variables, prefix=\"Male population by broad age group (thousands)\")\n",
    "    elif f == \"data/unwpp_interpolated_demographic_indicators.xlsx\":\n",
    "        get_variables(f,variables, prefix=\"Interpolated total population by broad age group, region, subregion and country, annually for 1950-2100 (thousands)\")\n",
    "    elif f == \"data/unwpp_female_population.xlsx\":\n",
    "        get_variables(f,variables, prefix=\"Female population by broad age group (thousands)\")\n",
    "    elif f == \"data/unwpp_dependency_ratios.xlsx\":\n",
    "        get_variables(f,variables, prefix=\"Dependency ratios (both sexes combined) for different age groups\")\n"
   ]
  }
 ],
 "metadata": {
  "kernelspec": {
   "display_name": "Python 3",
   "language": "python",
   "name": "python3"
  },
  "language_info": {
   "codemirror_mode": {
    "name": "ipython",
    "version": 3
   },
   "file_extension": ".py",
   "mimetype": "text/x-python",
   "name": "python",
   "nbconvert_exporter": "python",
   "pygments_lexer": "ipython3",
   "version": "3.7.3"
  }
 },
 "nbformat": 4,
 "nbformat_minor": 2
}
