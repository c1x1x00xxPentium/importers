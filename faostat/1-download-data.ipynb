{
 "cells": [
  {
   "cell_type": "code",
   "execution_count": 3,
   "metadata": {},
   "outputs": [],
   "source": [
    "import sys\n",
    "sys.path.append(\"..\")\n",
    "\n",
    "import pandas as pd\n",
    "import os\n",
    "import json\n",
    "import requests\n",
    "\n",
    "from utils import write_file\n",
    "\n",
    "METADATA_PATH = 'input/metadata/'\n",
    "DATA_PATH = 'input/'"
   ]
  },
  {
   "cell_type": "markdown",
   "metadata": {},
   "source": [
    "### Downloading the raw data"
   ]
  },
  {
   "cell_type": "code",
   "execution_count": 3,
   "metadata": {},
   "outputs": [
    {
     "name": "stdout",
     "output_type": "stream",
     "text": [
      "  % Total    % Received % Xferd  Average Speed   Time    Time     Time  Current\n",
      "                                 Dload  Upload   Total   Spent    Left  Speed\n",
      "100  874M  100  874M    0     0  2263k      0  0:06:35  0:06:35 --:--:-- 1836kM    0     0  2295k      0  0:06:30  0:05:01  0:01:29 2340k0     0  2272k      0  0:06:34  0:06:16  0:00:18 1604k\n"
     ]
    }
   ],
   "source": [
    "!curl -Lo $DATA_PATH/FAOSTAT.zip http://fenixservices.fao.org/faostat/static/bulkdownloads/FAOSTAT.zip"
   ]
  },
  {
   "cell_type": "code",
   "execution_count": 4,
   "metadata": {},
   "outputs": [
    {
     "name": "stdout",
     "output_type": "stream",
     "text": [
      "Archive:  input//FAOSTAT.zip\n",
      "  inflating: FAOSTAT/ASTI_Expenditures_E_All_Data_(Normalized).zip  \n",
      "  inflating: FAOSTAT/ASTI_Researchers_E_All_Data_(Normalized).zip  \n",
      "  inflating: FAOSTAT/CommodityBalances_Crops_E_All_Data_(Normalized).zip  \n",
      "  inflating: FAOSTAT/CommodityBalances_LivestockFish_E_All_Data_(Normalized).zip  \n",
      " extracting: FAOSTAT/ConsumerPriceIndices_E_All_Data_(Normalized).zip  \n",
      "  inflating: FAOSTAT/Deflators_E_All_Data_(Normalized).zip  \n",
      "  inflating: FAOSTAT/Development_Assistance_to_Agriculture_E_All_Data_(Normalized).zip  \n",
      "  inflating: FAOSTAT/Emissions_Agriculture_Agriculture_total_E_All_Data_(Normalized).zip  \n",
      "  inflating: FAOSTAT/Emissions_Agriculture_Burning_crop_residues_E_All_Data_(Normalized).zip  \n",
      "  inflating: FAOSTAT/Emissions_Agriculture_Burning_Savanna_E_All_Data_(Normalized).zip  \n",
      "  inflating: FAOSTAT/Emissions_Agriculture_Crop_Residues_E_All_Data_(Normalized).zip  \n",
      "  inflating: FAOSTAT/Emissions_Agriculture_Cultivated_Organic_Soils_E_All_Data_(Normalized).zip  \n",
      "  inflating: FAOSTAT/Emissions_Agriculture_Energy_E_All_Data_(Normalized).zip  \n",
      "  inflating: FAOSTAT/Emissions_Agriculture_Enteric_Fermentation_E_All_Data_(Normalized).zip  \n",
      "  inflating: FAOSTAT/Emissions_Agriculture_Manure_applied_to_soils_E_All_Data_(Normalized).zip  \n",
      "  inflating: FAOSTAT/Emissions_Agriculture_Manure_left_on_pasture_E_All_Data_(Normalized).zip  \n",
      "  inflating: FAOSTAT/Emissions_Agriculture_Manure_Management_E_All_Data_(Normalized).zip  \n",
      "  inflating: FAOSTAT/Emissions_Agriculture_Rice_Cultivation_E_All_Data_(Normalized).zip  \n",
      "  inflating: FAOSTAT/Emissions_Agriculture_Synthetic_Fertilizers_E_All_Data_(Normalized).zip  \n",
      "  inflating: FAOSTAT/Emissions_Land_Use_Burning_Biomass_E_All_Data_(Normalized).zip  \n",
      "  inflating: FAOSTAT/Emissions_Land_Use_Cropland_E_All_Data_(Normalized).zip  \n",
      "  inflating: FAOSTAT/Emissions_Land_Use_Forest_Land_E_All_Data_(Normalized).zip  \n",
      "  inflating: FAOSTAT/Emissions_Land_Use_Grassland_E_All_Data_(Normalized).zip  \n",
      "  inflating: FAOSTAT/Emissions_Land_Use_Land_Use_Total_E_All_Data_(Normalized).zip  \n",
      "  inflating: FAOSTAT/Employment_Indicators_E_All_Data_(Normalized).zip  \n",
      "  inflating: FAOSTAT/Environment_Emissions_by_Sector_E_All_Data_(Normalized).zip  \n",
      "  inflating: FAOSTAT/Environment_Emissions_intensities_E_All_Data_(Normalized).zip  \n",
      "  inflating: FAOSTAT/Environment_Fertilizers_E_All_Data_(Normalized).zip  \n",
      "  inflating: FAOSTAT/Environment_LandCover_E_All_Data_(Normalized).zip  \n",
      "  inflating: FAOSTAT/Environment_LandUse_E_All_Data_(Normalized).zip  \n",
      "  inflating: FAOSTAT/Environment_LivestockManure_E_All_Data_(Normalized).zip  \n",
      "  inflating: FAOSTAT/Environment_LivestockPatterns_E_All_Data_(Normalized).zip  \n",
      "  inflating: FAOSTAT/Environment_Pesticides_E_All_Data_(Normalized).zip  \n",
      "  inflating: FAOSTAT/Environment_Temperature_change_E_All_Data_(Normalized).zip  \n",
      "  inflating: FAOSTAT/Exchange_rate_E_All_Data_(Normalized).zip  \n",
      " extracting: FAOSTAT/FoodBalanceSheetsHistoric_E_All_Data_(Normalized).zip  \n",
      "  inflating: FAOSTAT/FoodBalanceSheets_E_All_Data_(Normalized).zip  \n",
      "  inflating: FAOSTAT/FoodSupply_Crops_E_All_Data_(Normalized).zip  \n",
      "  inflating: FAOSTAT/FoodSupply_LivestockFish_E_All_Data_(Normalized).zip  \n",
      "  inflating: FAOSTAT/Food_Aid_Shipments_WFP_E_All_Data_(Normalized).zip  \n",
      "  inflating: FAOSTAT/Food_Security_Data_E_All_Data_(Normalized).zip  \n",
      "  inflating: FAOSTAT/Forestry_E_All_Data_(Normalized).zip  \n",
      " extracting: FAOSTAT/Forestry_Trade_Flows_E_All_Data_(Normalized).zip  \n",
      " extracting: FAOSTAT/Indicators_from_Household_Surveys_E_All_Data_(Normalized).zip  \n",
      "  inflating: FAOSTAT/Inputs_FertilizersArchive_E_All_Data_(Normalized).zip  \n",
      "  inflating: FAOSTAT/Inputs_FertilizersNutrient_E_All_Data_(Normalized).zip  \n",
      " extracting: FAOSTAT/Inputs_FertilizersProduct_E_All_Data_(Normalized).zip  \n",
      "  inflating: FAOSTAT/Inputs_LandUse_E_All_Data_(Normalized).zip  \n",
      "  inflating: FAOSTAT/Inputs_Pesticides_Trade_E_All_Data_(Normalized).zip  \n",
      "  inflating: FAOSTAT/Inputs_Pesticides_Use_E_All_Data_(Normalized).zip  \n",
      "  inflating: FAOSTAT/Investment_CapitalStock_E_All_Data_(Normalized).zip  \n",
      "  inflating: FAOSTAT/Investment_CountryInvestmentStatisticsProfile_E_All_Data_(Normalized).zip  \n",
      "  inflating: FAOSTAT/Investment_CreditAgriculture_E_All_Data_(Normalized).zip  \n",
      " extracting: FAOSTAT/Investment_ForeignDirectInvestment_E_All_Data_(Normalized).zip  \n",
      "  inflating: FAOSTAT/Investment_GovernmentExpenditure_E_All_Data_(Normalized).zip  \n",
      "  inflating: FAOSTAT/Investment_MachineryArchive_E_All_Data_(Normalized).zip  \n",
      "  inflating: FAOSTAT/Investment_Machinery_E_All_Data_(Normalized).zip  \n",
      "  inflating: FAOSTAT/Macro-Statistics_Key_Indicators_E_All_Data_(Normalized).zip  \n",
      "  inflating: FAOSTAT/Population_E_All_Data_(Normalized).zip  \n",
      "  inflating: FAOSTAT/PricesArchive_E_All_Data_(Normalized).zip  \n",
      "  inflating: FAOSTAT/Prices_E_All_Data_(Normalized).zip  \n",
      " extracting: FAOSTAT/Prices_Monthly_E_All_Data_(Normalized).zip  \n",
      "  inflating: FAOSTAT/Price_Indices_E_All_Data_(Normalized).zip  \n",
      "  inflating: FAOSTAT/Production_CropsProcessed_E_All_Data_(Normalized).zip  \n",
      "  inflating: FAOSTAT/Production_Crops_E_All_Data_(Normalized).zip  \n",
      "  inflating: FAOSTAT/Production_Indices_E_All_Data_(Normalized).zip  \n",
      "  inflating: FAOSTAT/Production_LivestockPrimary_E_All_Data_(Normalized).zip  \n",
      "  inflating: FAOSTAT/Production_LivestockProcessed_E_All_Data_(Normalized).zip  \n",
      "  inflating: FAOSTAT/Production_Livestock_E_All_Data_(Normalized).zip  \n",
      "  inflating: FAOSTAT/Trade_Crops_Livestock_E_All_Data_(Normalized).zip  \n",
      " extracting: FAOSTAT/Trade_DetailedTradeMatrix_E_All_Data_(Normalized).zip  \n",
      "  inflating: FAOSTAT/Trade_Indices_E_All_Data_(Normalized).zip  \n",
      "  inflating: FAOSTAT/Trade_LiveAnimals_E_All_Data_(Normalized).zip  \n",
      "  inflating: FAOSTAT/Value_of_Production_E_All_Data_(Normalized).zip  \n"
     ]
    }
   ],
   "source": [
    "!unzip $DATA_PATH/FAOSTAT.zip -d $DATA_PATH/FAOSTAT"
   ]
  },
  {
   "cell_type": "code",
   "execution_count": null,
   "metadata": {},
   "outputs": [],
   "source": [
    "!rm FAOSTAT.zip"
   ]
  },
  {
   "cell_type": "markdown",
   "metadata": {},
   "source": [
    "### Downloading the metadata"
   ]
  },
  {
   "cell_type": "code",
   "execution_count": 4,
   "metadata": {},
   "outputs": [],
   "source": [
    "def write_metadata_file(file_path, content):\n",
    "    write_file(os.path.join(METADATA_PATH, file_path), content)"
   ]
  },
  {
   "cell_type": "code",
   "execution_count": 5,
   "metadata": {},
   "outputs": [],
   "source": [
    "def fetch_metadata(domain_code):\n",
    "    url = \"http://fenixservices.fao.org/faostat/api/v1/en/metadata/%s\" % domain_code\n",
    "    return requests.get(url).json()['data']"
   ]
  },
  {
   "cell_type": "code",
   "execution_count": 6,
   "metadata": {},
   "outputs": [],
   "source": [
    "groups = requests.get(\"http://fenixservices.fao.org/faostat/api/v1/en/groupsanddomains?section=download\").json()['data']\n"
   ]
  },
  {
   "cell_type": "code",
   "execution_count": 7,
   "metadata": {},
   "outputs": [],
   "source": [
    "datasets = requests.get(\"http://fenixservices.fao.org/faostat/static/bulkdownloads/datasets_E.json\").json()['Datasets']['Dataset']\n"
   ]
  },
  {
   "cell_type": "code",
   "execution_count": 8,
   "metadata": {},
   "outputs": [],
   "source": [
    "metadata_by_code = { group['domain_code']: fetch_metadata(group['domain_code']) for group in groups }\n"
   ]
  },
  {
   "cell_type": "code",
   "execution_count": 9,
   "metadata": {},
   "outputs": [],
   "source": [
    "write_metadata_file('groups.json', json.dumps(groups))\n",
    "write_metadata_file('datasets.json', json.dumps(datasets))\n",
    "write_metadata_file('metadata_by_code.json', json.dumps(metadata_by_code))\n"
   ]
  },
  {
   "cell_type": "code",
   "execution_count": null,
   "metadata": {},
   "outputs": [],
   "source": []
  }
 ],
 "metadata": {
  "kernelspec": {
   "display_name": "Python 3",
   "language": "python",
   "name": "python3"
  },
  "language_info": {
   "codemirror_mode": {
    "name": "ipython",
    "version": 3
   },
   "file_extension": ".py",
   "mimetype": "text/x-python",
   "name": "python",
   "nbconvert_exporter": "python",
   "pygments_lexer": "ipython3",
   "version": "3.7.3"
  }
 },
 "nbformat": 4,
 "nbformat_minor": 2
}
